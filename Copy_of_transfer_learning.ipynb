{
  "nbformat": 4,
  "nbformat_minor": 0,
  "metadata": {
    "colab": {
      "name": "Copy of transfer_learning",
      "provenance": [],
      "collapsed_sections": [],
      "toc_visible": true
    },
    "kernelspec": {
      "display_name": "Python 3",
      "language": "python",
      "name": "python3"
    },
    "language_info": {
      "codemirror_mode": {
        "name": "ipython",
        "version": 3
      },
      "file_extension": ".py",
      "mimetype": "text/x-python",
      "name": "python",
      "nbconvert_exporter": "python",
      "pygments_lexer": "ipython3",
      "version": "3.7.0"
    },
    "accelerator": "GPU"
  },
  "cells": [
    {
      "cell_type": "markdown",
      "metadata": {
        "id": "gDz8DTBvD4cT"
      },
      "source": [
        "# Transfer learning & fine-tuning\n",
        "\n",
        "**Author:** [fchollet](https://twitter.com/fchollet)<br>\n",
        "**Date created:** 2020/04/15<br>\n",
        "**Last modified:** 2020/05/12<br>\n",
        "**Description:** Complete guide to transfer learning & fine-tuning in Keras."
      ]
    },
    {
      "cell_type": "markdown",
      "metadata": {
        "id": "AOjrbMJtD4cU"
      },
      "source": [
        "## Setup"
      ]
    },
    {
      "cell_type": "code",
      "metadata": {
        "id": "zj3XhxtsD4cU"
      },
      "source": [
        "import numpy as np\n",
        "import tensorflow as tf\n",
        "from tensorflow import keras"
      ],
      "execution_count": null,
      "outputs": []
    },
    {
      "cell_type": "markdown",
      "metadata": {
        "id": "5u7wQvpyD4cU"
      },
      "source": [
        "## Introduction\n",
        "\n",
        "**Transfer learning** consists of taking features learned on one problem, and\n",
        "leveraging them on a new, similar problem. For instance, features from a model that has\n",
        "learned to identify racoons may be useful to kick-start a model meant to identify\n",
        " tanukis.\n",
        "\n",
        "Transfer learning is usually done for tasks where your dataset has too little data to\n",
        " train a full-scale model from scratch.\n",
        "\n",
        "The most common incarnation of transfer learning in the context of deep learning is the\n",
        " following workflow:\n",
        "\n",
        "1. Take layers from a previously trained model.\n",
        "2. Freeze them, so as to avoid destroying any of the information they contain during\n",
        " future training rounds.\n",
        "3. Add some new, trainable layers on top of the frozen layers. They will learn to turn\n",
        " the old features into predictions on a  new dataset.\n",
        "4. Train the new layers on your dataset.\n",
        "\n",
        "A last, optional step, is **fine-tuning**, which consists of unfreezing the entire\n",
        "model you obtained above (or part of it), and re-training it on the new data with a\n",
        "very low learning rate. This can potentially achieve meaningful improvements, by\n",
        " incrementally adapting the pretrained features to the new data.\n",
        "\n",
        "First, we will go over the Keras `trainable` API in detail, which underlies most\n",
        " transfer learning & fine-tuning workflows.\n",
        "\n",
        "Then, we'll demonstrate the typical workflow by taking a model pretrained on the\n",
        "ImageNet dataset, and retraining it on the Kaggle \"cats vs dogs\" classification\n",
        " dataset.\n",
        "\n",
        "This is adapted from\n",
        "[Deep Learning with Python](https://www.manning.com/books/deep-learning-with-python)\n",
        " and the 2016 blog post\n",
        "[\"building powerful image classification models using very little\n",
        " data\"](https://blog.keras.io/building-powerful-image-classification-models-using-very-little-data.html)."
      ]
    },
    {
      "cell_type": "markdown",
      "metadata": {
        "id": "Rwd_6fBrD4cU"
      },
      "source": [
        "## Freezing layers: understanding the `trainable` attribute\n",
        "\n",
        "Layers & models have three weight attributes:\n",
        "\n",
        "- `weights` is the list of all weights variables of the layer.\n",
        "- `trainable_weights` is the list of those that are meant to be updated (via gradient\n",
        " descent) to minimize the loss during training.\n",
        "- `non_trainable_weights` is the list of those that aren't meant to be trained.\n",
        " Typically they are updated by the model during the forward pass.\n",
        "\n",
        "**Example: the `Dense` layer has 2 trainable weights (kernel & bias)**"
      ]
    },
    {
      "cell_type": "code",
      "metadata": {
        "id": "jI87K69JD4cU",
        "colab": {
          "base_uri": "https://localhost:8080/"
        },
        "outputId": "fbeb7642-ec16-4a4d-ab7e-23a922ba6982"
      },
      "source": [
        "layer = keras.layers.Dense(3)\n",
        "layer.build((None, 4))  # Create the weights\n",
        "\n",
        "print(\"weights:\", len(layer.weights))\n",
        "print(\"trainable_weights:\", len(layer.trainable_weights))\n",
        "print(\"non_trainable_weights:\", len(layer.non_trainable_weights))"
      ],
      "execution_count": null,
      "outputs": [
        {
          "output_type": "stream",
          "text": [
            "weights: 2\n",
            "trainable_weights: 2\n",
            "non_trainable_weights: 0\n"
          ],
          "name": "stdout"
        }
      ]
    },
    {
      "cell_type": "markdown",
      "metadata": {
        "id": "LXDKBiO4D4cU"
      },
      "source": [
        "In general, all weights are trainable weights. The only built-in layer that has\n",
        "non-trainable weights is the `BatchNormalization` layer. It uses non-trainable weights\n",
        " to keep track of the mean and variance of its inputs during training.\n",
        "To learn how to use non-trainable weights in your own custom layers, see the\n",
        "[guide to writing new layers from scratch](https://keras.io/guides/making_new_layers_and_models_via_subclassing/).\n",
        "\n",
        "**Example: the `BatchNormalization` layer has 2 trainable weights and 2 non-trainable\n",
        " weights**"
      ]
    },
    {
      "cell_type": "code",
      "metadata": {
        "id": "iw5HlhnSD4cU",
        "colab": {
          "base_uri": "https://localhost:8080/"
        },
        "outputId": "6ac01458-6a41-4301-ebdf-d503de62bc3f"
      },
      "source": [
        "layer = keras.layers.BatchNormalization()\n",
        "layer.build((None, 4))  # Create the weights\n",
        "\n",
        "print(\"weights:\", len(layer.weights))\n",
        "print(\"trainable_weights:\", len(layer.trainable_weights))\n",
        "print(\"non_trainable_weights:\", len(layer.non_trainable_weights))"
      ],
      "execution_count": null,
      "outputs": [
        {
          "output_type": "stream",
          "text": [
            "weights: 4\n",
            "trainable_weights: 2\n",
            "non_trainable_weights: 2\n"
          ],
          "name": "stdout"
        }
      ]
    },
    {
      "cell_type": "markdown",
      "metadata": {
        "id": "_EzeHRCLD4cU"
      },
      "source": [
        "Layers & models also feature a boolean attribute `trainable`. Its value can be changed.\n",
        "Setting `layer.trainable` to `False` moves all the layer's weights from trainable to\n",
        "non-trainable.  This is called \"freezing\" the layer: the state of a frozen layer won't\n",
        "be updated during training (either when training with `fit()` or when training with\n",
        " any custom loop that relies on `trainable_weights` to apply gradient updates).\n",
        "\n",
        "**Example: setting `trainable` to `False`**"
      ]
    },
    {
      "cell_type": "code",
      "metadata": {
        "id": "hrFcvEkeD4cU",
        "colab": {
          "base_uri": "https://localhost:8080/"
        },
        "outputId": "f3be3128-bcaf-4074-f3fc-fcc99bbfb4d1"
      },
      "source": [
        "layer = keras.layers.Dense(3)\n",
        "layer.build((None, 4))  # Create the weights\n",
        "layer.trainable = False  # Freeze the layer\n",
        "\n",
        "print(\"weights:\", len(layer.weights))\n",
        "print(\"trainable_weights:\", len(layer.trainable_weights))\n",
        "print(\"non_trainable_weights:\", len(layer.non_trainable_weights))"
      ],
      "execution_count": null,
      "outputs": [
        {
          "output_type": "stream",
          "text": [
            "weights: 2\n",
            "trainable_weights: 0\n",
            "non_trainable_weights: 2\n"
          ],
          "name": "stdout"
        }
      ]
    },
    {
      "cell_type": "markdown",
      "metadata": {
        "id": "TjA6IrjfD4cU"
      },
      "source": [
        "When a trainable weight becomes non-trainable, its value is no longer updated during\n",
        " training."
      ]
    },
    {
      "cell_type": "code",
      "metadata": {
        "id": "kPwGdzmuD4cU",
        "colab": {
          "base_uri": "https://localhost:8080/"
        },
        "outputId": "78ed9757-b92d-4f87-844e-78113c93f39c"
      },
      "source": [
        "# Make a model with 2 layers\n",
        "layer1 = keras.layers.Dense(3, activation=\"relu\")\n",
        "layer2 = keras.layers.Dense(3, activation=\"sigmoid\")\n",
        "model = keras.Sequential([keras.Input(shape=(3,)), layer1, layer2])\n",
        "\n",
        "# Freeze the first layer\n",
        "layer1.trainable = False\n",
        "\n",
        "# Keep a copy of the weights of layer1 for later reference\n",
        "initial_layer1_weights_values = layer1.get_weights()\n",
        "\n",
        "# Train the model\n",
        "model.compile(optimizer=\"adam\", loss=\"mse\")\n",
        "model.fit(np.random.random((2, 3)), np.random.random((2, 3)))\n",
        "\n",
        "# Check that the weights of layer1 have not changed during training\n",
        "final_layer1_weights_values = layer1.get_weights()\n",
        "np.testing.assert_allclose(\n",
        "    initial_layer1_weights_values[0], final_layer1_weights_values[0]\n",
        ")\n",
        "np.testing.assert_allclose(\n",
        "    initial_layer1_weights_values[1], final_layer1_weights_values[1]\n",
        ")"
      ],
      "execution_count": null,
      "outputs": [
        {
          "output_type": "stream",
          "text": [
            "1/1 [==============================] - 0s 1ms/step - loss: 0.0953\n"
          ],
          "name": "stdout"
        }
      ]
    },
    {
      "cell_type": "markdown",
      "metadata": {
        "id": "JFr8nXPXD4cU"
      },
      "source": [
        "Do not confuse the `layer.trainable` attribute with the argument `training` in\n",
        "`layer.__call__()` (which controls whether the layer should run its forward pass in\n",
        " inference mode or training mode). For more information, see the\n",
        "[Keras FAQ](\n",
        "  https://keras.io/getting_started/faq/#whats-the-difference-between-the-training-argument-in-call-and-the-trainable-attribute)."
      ]
    },
    {
      "cell_type": "markdown",
      "metadata": {
        "id": "yTi5ZsbsD4cU"
      },
      "source": [
        "## Recursive setting of the `trainable` attribute\n",
        "\n",
        "If you set `trainable = False` on a model or on any layer that has sublayers,\n",
        "all children layers become non-trainable as well.\n",
        "\n",
        "**Example:**"
      ]
    },
    {
      "cell_type": "code",
      "metadata": {
        "id": "Ys6A1gOCD4cU"
      },
      "source": [
        "inner_model = keras.Sequential(\n",
        "    [\n",
        "        keras.Input(shape=(3,)),\n",
        "        keras.layers.Dense(3, activation=\"relu\"),\n",
        "        keras.layers.Dense(3, activation=\"relu\"),\n",
        "    ]\n",
        ")\n",
        "\n",
        "model = keras.Sequential(\n",
        "    [keras.Input(shape=(3,)), inner_model, keras.layers.Dense(3, activation=\"sigmoid\"),]\n",
        ")\n",
        "\n",
        "model.trainable = False  # Freeze the outer model\n",
        "\n",
        "assert inner_model.trainable == False  # All layers in `model` are now frozen\n",
        "assert inner_model.layers[0].trainable == False  # `trainable` is propagated recursively"
      ],
      "execution_count": null,
      "outputs": []
    },
    {
      "cell_type": "markdown",
      "metadata": {
        "id": "oxQqQg5ED4cU"
      },
      "source": [
        "## The typical transfer-learning workflow\n",
        "\n",
        "This leads us to how a typical transfer learning workflow can be implemented in Keras:\n",
        "\n",
        "1. Instantiate a base model and load pre-trained weights into it.\n",
        "2. Freeze all layers in the base model by setting `trainable = False`.\n",
        "3. Create a new model on top of the output of one (or several) layers from the base\n",
        " model.\n",
        "4. Train your new model on your new dataset.\n",
        "\n",
        "Note that an alternative, more lightweight workflow could also be:\n",
        "\n",
        "1. Instantiate a base model and load pre-trained weights into it.\n",
        "2. Run your new dataset through it and record the output of one (or several) layers\n",
        " from the base model. This is called **feature extraction**.\n",
        "3. Use that output as input data for a new, smaller model.\n",
        "\n",
        "A key advantage of that second workflow is that you only run the base model once on\n",
        " your data, rather than once per epoch of training. So it's a lot faster & cheaper.\n",
        "\n",
        "An issue with that second workflow, though, is that it doesn't allow you to dynamically\n",
        "modify the input data of your new model during training, which is required when doing\n",
        "data augmentation, for instance. Transfer learning is typically used for tasks when\n",
        "your new dataset has too little data to train a full-scale model from scratch, and in\n",
        "such scenarios data augmentation is very important. So in what follows, we will focus\n",
        " on the first workflow.\n",
        "\n",
        "Here's what the first workflow looks like in Keras:\n",
        "\n",
        "First, instantiate a base model with pre-trained weights.\n",
        "\n",
        "```python\n",
        "base_model = keras.applications.Xception(\n",
        "    weights='imagenet',  # Load weights pre-trained on ImageNet.\n",
        "    input_shape=(150, 150, 3),\n",
        "    include_top=False)  # Do not include the ImageNet classifier at the top.\n",
        "```\n",
        "\n",
        "Then, freeze the base model.\n",
        "\n",
        "```python\n",
        "base_model.trainable = False\n",
        "```\n",
        "\n",
        "Create a new model on top.\n",
        "\n",
        "```python\n",
        "inputs = keras.Input(shape=(150, 150, 3))\n",
        "# We make sure that the base_model is running in inference mode here,\n",
        "# by passing `training=False`. This is important for fine-tuning, as you will\n",
        "# learn in a few paragraphs.\n",
        "x = base_model(inputs, training=False)\n",
        "# Convert features of shape `base_model.output_shape[1:]` to vectors\n",
        "x = keras.layers.GlobalAveragePooling2D()(x)\n",
        "# A Dense classifier with a single unit (binary classification)\n",
        "outputs = keras.layers.Dense(1)(x)\n",
        "model = keras.Model(inputs, outputs)\n",
        "```\n",
        "\n",
        "Train the model on new data.\n",
        "\n",
        "```python\n",
        "model.compile(optimizer=keras.optimizers.Adam(),\n",
        "              loss=keras.losses.BinaryCrossentropy(from_logits=True),\n",
        "              metrics=[keras.metrics.BinaryAccuracy()])\n",
        "model.fit(new_dataset, epochs=20, callbacks=..., validation_data=...)\n",
        "```"
      ]
    },
    {
      "cell_type": "markdown",
      "metadata": {
        "id": "IdYObDpsD4cU"
      },
      "source": [
        "## Fine-tuning\n",
        "\n",
        "Once your model has converged on the new data, you can try to unfreeze all or part of\n",
        " the base model and retrain the whole model end-to-end with a very low learning rate.\n",
        "\n",
        "This is an optional last step that can potentially give you incremental improvements.\n",
        " It could also potentially lead to quick overfitting -- keep that in mind.\n",
        "\n",
        "It is critical to only do this step *after* the model with frozen layers has been\n",
        "trained to convergence. If you mix randomly-initialized trainable layers with\n",
        "trainable layers that hold pre-trained features, the randomly-initialized layers will\n",
        "cause very large gradient updates during training, which will destroy your pre-trained\n",
        " features.\n",
        "\n",
        "It's also critical to use a very low learning rate at this stage, because\n",
        "you are training a much larger model than in the first round of training, on a dataset\n",
        " that is typically very small.\n",
        "As a result, you are at risk of overfitting very quickly if you apply large weight\n",
        " updates. Here, you only want to readapt the pretrained weights in an incremental way.\n",
        "\n",
        "This is how to implement fine-tuning of the whole base model:\n",
        "\n",
        "```python\n",
        "# Unfreeze the base model\n",
        "base_model.trainable = True\n",
        "\n",
        "# It's important to recompile your model after you make any changes\n",
        "# to the `trainable` attribute of any inner layer, so that your changes\n",
        "# are take into account\n",
        "model.compile(optimizer=keras.optimizers.Adam(1e-5),  # Very low learning rate\n",
        "              loss=keras.losses.BinaryCrossentropy(from_logits=True),\n",
        "              metrics=[keras.metrics.BinaryAccuracy()])\n",
        "\n",
        "# Train end-to-end. Be careful to stop before you overfit!\n",
        "model.fit(new_dataset, epochs=10, callbacks=..., validation_data=...)\n",
        "```\n",
        "\n",
        "**Important note about `compile()` and `trainable`**\n",
        "\n",
        "Calling `compile()` on a model is meant to \"freeze\" the behavior of that model. This\n",
        " implies that the `trainable`\n",
        "attribute values at the time the model is compiled should be preserved throughout the\n",
        " lifetime of that model,\n",
        "until `compile` is called again. Hence, if you change any `trainable` value, make sure\n",
        " to call `compile()` again on your\n",
        "model for your changes to be taken into account.\n",
        "\n",
        "**Important notes about `BatchNormalization` layer**\n",
        "\n",
        "Many image models contain `BatchNormalization` layers. That layer is a special case on\n",
        " every imaginable count. Here are a few things to keep in mind.\n",
        "\n",
        "- `BatchNormalization` contains 2 non-trainable weights that get updated during\n",
        "training. These are the variables tracking the mean and variance of the inputs.\n",
        "- When you set `bn_layer.trainable = False`, the `BatchNormalization` layer will\n",
        "run in inference mode, and will not update its mean & variance statistics. This is not\n",
        "the case for other layers in general, as\n",
        "[weight trainability & inference/training modes are two orthogonal concepts](\n",
        "  https://keras.io/getting_started/faq/#whats-the-difference-between-the-training-argument-in-call-and-the-trainable-attribute).\n",
        "But the two are tied in the case of the `BatchNormalization` layer.\n",
        "- When you unfreeze a model that contains `BatchNormalization` layers in order to do\n",
        "fine-tuning, you should keep the `BatchNormalization` layers in inference mode by\n",
        " passing `training=False` when calling the base model.\n",
        "Otherwise the updates applied to the non-trainable weights will suddenly destroy\n",
        "what the model has learned.\n",
        "\n",
        "You'll see this pattern in action in the end-to-end example at the end of this guide.\n"
      ]
    },
    {
      "cell_type": "markdown",
      "metadata": {
        "id": "GrqD89TSD4cU"
      },
      "source": [
        "## Transfer learning & fine-tuning with a custom training loop\n",
        "\n",
        "If instead of `fit()`, you are using your own low-level training loop, the workflow\n",
        "stays essentially the same. You should be careful to only take into account the list\n",
        " `model.trainable_weights` when applying gradient updates:\n",
        "\n",
        "```python\n",
        "# Create base model\n",
        "base_model = keras.applications.Xception(\n",
        "    weights='imagenet',\n",
        "    input_shape=(150, 150, 3),\n",
        "    include_top=False)\n",
        "# Freeze base model\n",
        "base_model.trainable = False\n",
        "\n",
        "# Create new model on top.\n",
        "inputs = keras.Input(shape=(150, 150, 3))\n",
        "x = base_model(inputs, training=False)\n",
        "x = keras.layers.GlobalAveragePooling2D()(x)\n",
        "outputs = keras.layers.Dense(1)(x)\n",
        "model = keras.Model(inputs, outputs)\n",
        "\n",
        "loss_fn = keras.losses.BinaryCrossentropy(from_logits=True)\n",
        "optimizer = keras.optimizers.Adam()\n",
        "\n",
        "# Iterate over the batches of a dataset.\n",
        "for inputs, targets in new_dataset:\n",
        "    # Open a GradientTape.\n",
        "    with tf.GradientTape() as tape:\n",
        "        # Forward pass.\n",
        "        predictions = model(inputs)\n",
        "        # Compute the loss value for this batch.\n",
        "        loss_value = loss_fn(targets, predictions)\n",
        "\n",
        "    # Get gradients of loss wrt the *trainable* weights.\n",
        "    gradients = tape.gradient(loss_value, model.trainable_weights)\n",
        "    # Update the weights of the model.\n",
        "    optimizer.apply_gradients(zip(gradients, model.trainable_weights))\n",
        "```"
      ]
    },
    {
      "cell_type": "markdown",
      "metadata": {
        "id": "yj8CSDOVD4cU"
      },
      "source": [
        "Likewise for fine-tuning."
      ]
    },
    {
      "cell_type": "markdown",
      "metadata": {
        "id": "J_H3h__jD4cU"
      },
      "source": [
        "## An end-to-end example: fine-tuning an image classification model on a cats vs. dogs dataset\n",
        "\n",
        "To solidify these concepts, let's walk you through a concrete end-to-end transfer\n",
        "learning & fine-tuning example. We will load the Xception model, pre-trained on\n",
        " ImageNet, and use it on the Kaggle \"cats vs. dogs\" classification dataset."
      ]
    },
    {
      "cell_type": "markdown",
      "metadata": {
        "id": "Uz-g7ncJD4cU"
      },
      "source": [
        "### Getting the data\n",
        "\n",
        "First, let's fetch the cats vs. dogs dataset using TFDS. If you have your own dataset,\n",
        "you'll probably want to use the utility\n",
        "`tf.keras.preprocessing.image_dataset_from_directory` to generate similar labeled\n",
        " dataset objects from a set of images on disk filed into class-specific folders.\n",
        "\n",
        "Transfer learning is most useful when working with very small datasets. To keep our\n",
        "dataset small, we will use 40% of the original training data (25,000 images) for\n",
        " training, 10% for validation, and 10% for testing."
      ]
    },
    {
      "cell_type": "code",
      "metadata": {
        "id": "wVGlJFve4Oaf"
      },
      "source": [
        "#https://www.kaggle.com/c/23035/download-all\n",
        "\n",
        "!wget -x --load-cookies kaggle.com_cookies.txt \"https://www.kaggle.com/c/23035/download-all\" -O data.zip\n",
        "# A cookies.txt-t fel kell tölteni!!"
      ],
      "execution_count": null,
      "outputs": []
    },
    {
      "cell_type": "code",
      "metadata": {
        "id": "cXXV-NKJYL1P"
      },
      "source": [
        "!unzip data.zip"
      ],
      "execution_count": null,
      "outputs": []
    },
    {
      "cell_type": "code",
      "metadata": {
        "id": "-DUsgpF3WlPw"
      },
      "source": [
        "!rm -rf \"/content/test\""
      ],
      "execution_count": 74,
      "outputs": []
    },
    {
      "cell_type": "code",
      "metadata": {
        "id": "9nR1x79kD4cU"
      },
      "source": [
        "#import tensorflow_datasets as tfds\n",
        "\n",
        "#kiszedni ami nem kell bele (test mappa, stb...)\n",
        "DATADIR = \"/content/NN_2020_Kaggle_dataset\"\n",
        "IMG_SIZE = 150\n",
        "BATCH_SIZE = 32\n",
        "\n",
        "#!ls \"./NN_2020_Kaggle_dataset/\"\n",
        "#!rm -rf \"./NN_2020_Kaggle_dataset/checkpoints.ipynb\"\n",
        "\n",
        "#https://keras.io/api/preprocessing/image/#flowfromdirectory-method\n",
        "\n",
        "train_datagen = tf.keras.preprocessing.image.ImageDataGenerator(\n",
        "        rescale=1./255,\n",
        "        shear_range=0.2,\n",
        "        zoom_range=0.2,\n",
        "        horizontal_flip=True,\n",
        "        vertical_flip=True,\n",
        "        validation_split = 0.2)\n",
        "\n",
        "#don't augment the validation dataset\n",
        "validation_datagen = tf.keras.preprocessing.image.ImageDataGenerator(rescale=1./255, validation_split = 0.2)"
      ],
      "execution_count": 40,
      "outputs": []
    },
    {
      "cell_type": "code",
      "metadata": {
        "colab": {
          "base_uri": "https://localhost:8080/"
        },
        "id": "o4tYKzS_aAay",
        "outputId": "3c44b3ad-3e86-4894-ca48-71322bd9ed45"
      },
      "source": [
        "train_generator = train_datagen.flow_from_directory(\n",
        "    DATADIR,\n",
        "    target_size = (IMG_SIZE, IMG_SIZE),\n",
        "    color_mode=\"rgb\",\n",
        "    class_mode='categorical',\n",
        "    batch_size=BATCH_SIZE,\n",
        "    shuffle=True,\n",
        "    seed = None,\n",
        "    subset='training') # set as training data"
      ],
      "execution_count": 41,
      "outputs": [
        {
          "output_type": "stream",
          "text": [
            "Found 6711 images belonging to 16 classes.\n"
          ],
          "name": "stdout"
        }
      ]
    },
    {
      "cell_type": "code",
      "metadata": {
        "colab": {
          "base_uri": "https://localhost:8080/"
        },
        "id": "hUfaleObaIPD",
        "outputId": "2edbcf12-9ee2-4206-e52f-f4904076b314"
      },
      "source": [
        "validation_generator = validation_datagen.flow_from_directory(\n",
        "    DATADIR,\n",
        "    target_size = (IMG_SIZE, IMG_SIZE),\n",
        "    color_mode=\"rgb\",\n",
        "    classes=None,\n",
        "    class_mode='categorical',\n",
        "    batch_size=BATCH_SIZE,\n",
        "    shuffle=True,\n",
        "    seed=None,\n",
        "    subset='validation') # set as validation data"
      ],
      "execution_count": 42,
      "outputs": [
        {
          "output_type": "stream",
          "text": [
            "Found 1669 images belonging to 16 classes.\n"
          ],
          "name": "stdout"
        }
      ]
    },
    {
      "cell_type": "markdown",
      "metadata": {
        "id": "EXCwUZhCD4cV"
      },
      "source": [
        "## Build a model\n",
        "\n",
        "Now let's built a model that follows the blueprint we've explained earlier.\n",
        "\n",
        "Note that:\n",
        "\n",
        "- We add a `Normalization` layer to scale input values (initially in the `[0, 255]`\n",
        " range) to the `[-1, 1]` range.\n",
        "- We add a `Dropout` layer before the classification layer, for regularization.\n",
        "- We make sure to pass `training=False` when calling the base model, so that\n",
        "it runs in inference mode, so that batchnorm statistics don't get updated\n",
        "even after we unfreeze the base model for fine-tuning."
      ]
    },
    {
      "cell_type": "code",
      "metadata": {
        "id": "CDhuEVwID4cV"
      },
      "source": [
        "# base_model = keras.applications.Xception(\n",
        "#     weights=\"imagenet\",  # Load weights pre-trained on ImageNet.\n",
        "#     input_shape=(150, 150, 3),\n",
        "#     include_top=False,\n",
        "# )  # Do not include the ImageNet classifier at the top.\n",
        "\n",
        "# # Freeze the base_model\n",
        "# base_model.trainable = False\n",
        "\n",
        "# # Create new model on top\n",
        "# inputs = keras.Input(shape=(150, 150, 3))\n",
        "# #x = data_augmentation(inputs)  # Apply random data augmentation\n",
        "\n",
        "# # Pre-trained Xception weights requires that input be normalized\n",
        "# # from (0, 255) to a range (-1., +1.), the normalization layer\n",
        "# # does the following, outputs = (inputs - mean) / sqrt(var)\n",
        "# norm_layer = keras.layers.experimental.preprocessing.Normalization()\n",
        "# mean = np.array([127.5] * 3)\n",
        "# var = mean ** 2\n",
        "# # Scale inputs to [-1, +1]\n",
        "# x = norm_layer(inputs)\n",
        "# norm_layer.set_weights([mean, var])\n",
        "\n",
        "# # The base model contains batchnorm layers. We want to keep them in inference mode\n",
        "# # when we unfreeze the base model for fine-tuning, so we make sure that the\n",
        "# # base_model is running in inference mode here.\n",
        "# x = base_model(x, training=False)\n",
        "# x = keras.layers.GlobalAveragePooling2D()(x)\n",
        "# x = keras.layers.Dropout(0.2)(x)  # Regularize with dropout\n",
        "# outputs = keras.layers.Dense(16)(x)\n",
        "# model = keras.Model(inputs, outputs)\n",
        "\n",
        "# model.summary()"
      ],
      "execution_count": null,
      "outputs": []
    },
    {
      "cell_type": "code",
      "metadata": {
        "id": "4Sj3zTaromNU"
      },
      "source": [
        "from keras.models import Model\n",
        "from tensorflow.keras.applications import InceptionResNetV2\n",
        "from keras.applications.inception_resnet_v2 import preprocess_input as inception_resnet_v2_preprocess_input\n",
        "from keras.layers import Dense, Dropout, GlobalMaxPooling2D\n",
        "\n",
        "# base_model = InceptionResNetV2(input_shape=(IMG_SIZE, IMG_SIZE, 3), include_top=False, weights=\"imagenet\") #néha ez nem működik, mert a colab úgy gondolja, hogy nem szeretné betölteni:)))\n",
        "#\n",
        "# for layer in base_model.layers:\n",
        "#     layer.trainable = False\n",
        "\n",
        "# base_model.summary()\n",
        "# print(len(base_model.layers))\n",
        "\n",
        "def InceptionResNetV2_model(IMG_SIZE, channel = 1, num_classes = None):\n",
        "  \n",
        "  model = InceptionResNetV2(input_shape=(IMG_SIZE, IMG_SIZE, 3), include_top=False, weights=\"imagenet\") #néha ez nem működik, mert a colab úgy gondolja, hogy nem szeretné betölteni:)))\n",
        "  #model.layers.pop()\n",
        "  #model.outputs = [model.layers[-1].output]\n",
        "  #model.layers[-1]._outbound_nodes = []\n",
        "  x = model.output\n",
        "  x = GlobalMaxPooling2D()(x)\n",
        "  x = Dropout(0.7)(x)\n",
        "  x = Dense(128, activation=\"relu\")(x)\n",
        "  x = Dropout(0.7)(x)\n",
        "  prediction = Dense(num_classes, activation='softmax')(x)\n",
        "\n",
        "  model=Model(model.input, prediction)\n",
        "\n",
        "#To set 80% of all layers to non-trainable (weights will not be updated)\n",
        "\n",
        "  idx = round(len(model.layers)*0.8)\n",
        "  for layer in model.layers[:idx]:\n",
        "    layer.trainable = False\n",
        "\n",
        "# Learning rate is changed to 0.001\n",
        "  sgd = keras.optimizers.SGD(lr=0.001, momentum=0.9, nesterov=True)\n",
        "  model.compile(optimizer=sgd, loss='categorical_crossentropy', metrics=['accuracy'])\n",
        "\n",
        "  return model"
      ],
      "execution_count": 68,
      "outputs": []
    },
    {
      "cell_type": "code",
      "metadata": {
        "id": "SMCDg-JWoqIz"
      },
      "source": [
        "IMG_SIZE = 150 # Resolution of inputs\n",
        "CHANNEL = 3\n",
        "NUM_CLASSES = 16\n",
        "\n",
        "model2 = InceptionResNetV2_model(IMG_SIZE, CHANNEL, NUM_CLASSES)\n",
        "model2.summary()"
      ],
      "execution_count": null,
      "outputs": []
    },
    {
      "cell_type": "markdown",
      "metadata": {
        "id": "ohDp4bbYD4cV"
      },
      "source": [
        "## Train the top layer"
      ]
    },
    {
      "cell_type": "code",
      "metadata": {
        "id": "UYS1dgm9D4cV"
      },
      "source": [
        "model.compile(\n",
        "    optimizer=keras.optimizers.Adam(),\n",
        "    loss='categorical_crossentropy',\n",
        "    metrics=[\"accuracy\"],\n",
        ")"
      ],
      "execution_count": 61,
      "outputs": []
    },
    {
      "cell_type": "code",
      "metadata": {
        "id": "4--kb2bqmuRO"
      },
      "source": [
        "nb_epochs = 20\n",
        "model2.fit_generator(\n",
        "    train_generator,\n",
        "    steps_per_epoch = train_generator.samples // BATCH_SIZE,\n",
        "    validation_data = validation_generator, \n",
        "    validation_steps = validation_generator.samples // BATCH_SIZE,\n",
        "    epochs = nb_epochs)"
      ],
      "execution_count": null,
      "outputs": []
    },
    {
      "cell_type": "markdown",
      "metadata": {
        "id": "ZbPLT9rGD4cV"
      },
      "source": [
        "## Do a round of fine-tuning of the entire model\n",
        "\n",
        "Finally, let's unfreeze the base model and train the entire model end-to-end with a low\n",
        " learning rate.\n",
        "\n",
        "Importantly, although the base model becomes trainable, it is still running in\n",
        "inference mode since we passed `training=False` when calling it when we built the\n",
        "model. This means that the batch normalization layers inside won't update their batch\n",
        "statistics. If they did, they would wreck havoc on the representations learned by the\n",
        " model so far."
      ]
    },
    {
      "cell_type": "code",
      "metadata": {
        "id": "5YhQkjHdD4cV",
        "cellView": "form"
      },
      "source": [
        "#@title\n",
        "# Unfreeze the base_model. Note that it keeps running in inference mode\n",
        "# since we passed `training=False` when calling it. This means that\n",
        "# the batchnorm layers will not update their batch statistics.\n",
        "# This prevents the batchnorm layers from undoing all the training\n",
        "# we've done so far.\n",
        "base_model.trainable = True\n",
        "model.summary()\n",
        "\n",
        "model.compile(\n",
        "    optimizer=keras.optimizers.Adam(1e-5),  # Low learning rate\n",
        "    loss=keras.losses.BinaryCrossentropy(from_logits=True),\n",
        "    metrics=[keras.metrics.BinaryAccuracy()],\n",
        ")\n",
        "\n",
        "epochs = 10\n",
        "model.fit(train_ds, epochs=epochs, validation_data=validation_ds)"
      ],
      "execution_count": null,
      "outputs": []
    },
    {
      "cell_type": "markdown",
      "metadata": {
        "id": "k6ug5hneD4cV"
      },
      "source": [
        "After 10 epochs, fine-tuning gains us a nice improvement here."
      ]
    },
    {
      "cell_type": "markdown",
      "metadata": {
        "id": "Zn5CA0u0x0yr"
      },
      "source": [
        "# Test"
      ]
    },
    {
      "cell_type": "code",
      "metadata": {
        "id": "WEEEoq7x0BI_"
      },
      "source": [
        "import cv2\n",
        "\n",
        "def prepare(filepath):\n",
        "    IMG_SIZE = 150 \n",
        "    img_array = cv2.imread(filepath)\n",
        "    new_array = cv2.resize(img_array, (IMG_SIZE, IMG_SIZE))  # resize image to match model's expected sizing\n",
        "    return new_array.reshape(-1, IMG_SIZE, IMG_SIZE, 1)  # return the image with shaping that TF wants.\n",
        "\n",
        "# prediction = model.predict()\n",
        "# predicted_classes = np.argmax(prediction, axis = 1)\n",
        "# with open('first_results.txt', 'w') as new_results:\n",
        "#   new_results.write(\"Id,Category\\n\")\n",
        "#   i = 0\n",
        "#   for img in os.listdir(path):  \n",
        "#     new_results.write(\"%s,%s\\n\" % (img, int(predicted_classes[i]))) #i. image, index of max value\n",
        "#     i = i+1"
      ],
      "execution_count": 93,
      "outputs": []
    },
    {
      "cell_type": "code",
      "metadata": {
        "colab": {
          "base_uri": "https://localhost:8080/"
        },
        "id": "RqomN31V4TOw",
        "outputId": "00345816-fa4c-4a5c-db7a-14c4dfd6698e"
      },
      "source": [
        "path = \"/content/test_data\"\n",
        "\n",
        "test_datagen = tf.keras.preprocessing.image.ImageDataGenerator(rescale=1./255)\n",
        "\n",
        "test_generator = test_datagen.flow_from_directory(\n",
        "    path,\n",
        "    target_size = (IMG_SIZE, IMG_SIZE),\n",
        "    batch_size = 1,\n",
        "    class_mode = None,\n",
        "    shuffle = False,\n",
        "    seed=42)"
      ],
      "execution_count": 100,
      "outputs": [
        {
          "output_type": "stream",
          "text": [
            "Found 938 images belonging to 1 classes.\n"
          ],
          "name": "stdout"
        }
      ]
    },
    {
      "cell_type": "code",
      "metadata": {
        "id": "_WD9jP3Sx0WM"
      },
      "source": [
        "prediction = model2.predict(test_generator)\n",
        "predicted_classes = np.argmax(prediction, axis = 1)"
      ],
      "execution_count": 101,
      "outputs": []
    },
    {
      "cell_type": "code",
      "metadata": {
        "id": "UJYpOAMA9NrP"
      },
      "source": [
        "STEP_SIZE_TEST=test_generator.n//test_generator.batch_size\n",
        "test_generator.reset()\n",
        "pred = model2.predict_generator(test_generator,\n",
        "                               steps=STEP_SIZE_TEST,\n",
        "                               verbose=1)"
      ],
      "execution_count": null,
      "outputs": []
    },
    {
      "cell_type": "code",
      "metadata": {
        "id": "8oWMc-qC-3C1"
      },
      "source": [
        "predicted_class_indices=np.argmax(pred,axis=1)"
      ],
      "execution_count": 103,
      "outputs": []
    },
    {
      "cell_type": "code",
      "metadata": {
        "id": "hIYM_a6LHA9q"
      },
      "source": [
        "test_images = []\n",
        "for file in test_generator.filenames:\n",
        "    test_images.append(file[5:])"
      ],
      "execution_count": 142,
      "outputs": []
    },
    {
      "cell_type": "code",
      "metadata": {
        "colab": {
          "base_uri": "https://localhost:8080/"
        },
        "id": "55xKMsfOHbOc",
        "outputId": "16772e54-707d-4241-9c63-fe815c03119d"
      },
      "source": [
        "print(test_images)"
      ],
      "execution_count": 143,
      "outputs": [
        {
          "output_type": "stream",
          "text": [
            "['10059.png', '10079.png', '10099.png', '10110.png', '10215.png', '1025.png', '1032.png', '10360.png', '10440.png', '10460.png', '10603.png', '10769.png', '1087.png', '10950.png', '11019.png', '11186.png', '11257.png', '11316.png', '11330.png', '11353.png', '11565.png', '11590.png', '1169.png', '11849.png', '12357.png', '12549.bmp', '12566.png', '12694.png', '12773.png', '12836.png', '12874.png', '12943.png', '1337.png', '13374.png', '13433.png', '1346.png', '13713.png', '13744.png', '13959.png', '13988.png', '14274.png', '14380.png', '14475.png', '145.png', '14604.png', '14700.png', '14795.png', '14894.png', '149.png', '14920.png', '15079.png', '15297.png', '15504.png', '15617.png', '15694.png', '15698.png', '15756.png', '15781.png', '15833.png', '15954.png', '1596.png', '16011.png', '16044.png', '16128.png', '16207.png', '16261.png', '16263.png', '16269.png', '16478.png', '16953.png', '17003.png', '17065.png', '17114.png', '17130.png', '1716.png', '17207.png', '17348.png', '17450.png', '17472.png', '1750.png', '17530.png', '17553.png', '17695.png', '17843.png', '17960.png', '17995.png', '18154.png', '18184.png', '18208.png', '18297.png', '18298.png', '18559.png', '18571.png', '18703.png', '18756.png', '18769.png', '18911.png', '18917.png', '19008.png', '19047.png', '19082.png', '19216.png', '19217.png', '19272.png', '19352.png', '19387.png', '19456.png', '19466.png', '1957.png', '19721.png', '19879.png', '19886.png', '20141.png', '20173.png', '20229.bmp', '20247.png', '20259.png', '2029.png', '20312.png', '20352.png', '20452.png', '20526.png', '20813.png', '20840.png', '20897.png', '20962.bmp', '21056.png', '21294.png', '21354.png', '2148.png', '21880.png', '21892.png', '22092.png', '22207.png', '22216.png', '2257.png', '2274.png', '22881.png', '22948.png', '22949.png', '23061.png', '23198.png', '23430.png', '23627.png', '23694.png', '23719.png', '23819.bmp', '23834.png', '23855.png', '23948.png', '23983.png', '24014.png', '24101.png', '24276.png', '2451.png', '24588.png', '24876.png', '25063.png', '25067.png', '25155.png', '25212.png', '25398.png', '25457.bmp', '25641.png', '25655.png', '26011.png', '26167.png', '26331.png', '26381.png', '26538.png', '26669.png', '26734.png', '26878.png', '26996.png', '27000.png', '27097.png', '27342.png', '27472.png', '27592.png', '27977.png', '28115.png', '2838.png', '2847.png', '28529.png', '28769.png', '2878.png', '28873.png', '28937.png', '29011.png', '29150.png', '29171.png', '2931.png', '29399.png', '29495.png', '29525.png', '29610.png', '29653.png', '29722.png', '2981.png', '29959.png', '30016.png', '30744.png', '30872.png', '30917.png', '31126.png', '3144.png', '31525.png', '31616.png', '3165.png', '3179.png', '318.bmp', '31942.png', '31949.png', '31963.png', '31991.png', '32095.png', '32120.png', '32128.png', '32139.png', '32143.png', '32205.png', '3229.png', '32401.png', '32605.png', '32643.png', '32796.png', '32802.png', '32983.png', '33052.png', '33123.bmp', '33276.bmp', '33403.png', '33560.png', '33675.png', '33713.png', '33883.png', '33943.png', '33989.png', '34120.png', '34237.png', '34262.png', '34340.png', '34490.png', '34637.png', '34777.png', '35013.png', '35028.png', '35079.png', '35192.png', '3526.png', '35397.png', '35510.png', '35894.png', '36162.png', '36228.png', '36402.png', '36430.png', '36453.png', '36534.png', '36796.png', '36902.png', '36904.png', '3703.png', '37081.png', '37286.png', '37309.png', '3731.png', '37452.png', '37552.png', '376.png', '37765.png', '37826.png', '37859.png', '37911.png', '37933.png', '37976.png', '3801.png', '38147.png', '38187.png', '38218.png', '38270.png', '38339.png', '38345.png', '3848.png', '38484.png', '3864.png', '38676.png', '38677.png', '3872.png', '38726.png', '38832.png', '38871.png', '38888.png', '38916.png', '38947.png', '38957.png', '39041.png', '3905.png', '39078.png', '39103.png', '3911.png', '39190.png', '39219.png', '39377.png', '39393.png', '39466.png', '39560.bmp', '39581.png', '39651.png', '39814.png', '39940.png', '39948.png', '40034.png', '40444.png', '40486.png', '40590.png', '40764.png', '41047.png', '41062.png', '41916.png', '4219.png', '42388.png', '42703.png', '42834.png', '42871.png', '42967.png', '43210.png', '43227.png', '43240.png', '43380.png', '43424.png', '43443.png', '43495.png', '43673.png', '43707.png', '43844.png', '43864.png', '43893.png', '43972.png', '44010.png', '44037.png', '44077.png', '44177.png', '44302.png', '44363.png', '44377.png', '44416.png', '44451.png', '44508.png', '44897.png', '45076.png', '45084.png', '45125.png', '45175.png', '45447.png', '45469.png', '45526.png', '45528.png', '45618.png', '45758.png', '45811.png', '4583.png', '45914.png', '45959.png', '45985.png', '46258.png', '46359.png', '46428.png', '46438.png', '46534.png', '46837.png', '47034.png', '47072.png', '47105.bmp', '47140.png', '47148.bmp', '47336.png', '47736.png', '4821.png', '48231.png', '48275.png', '48415.png', '48503.png', '48737.png', '48766.png', '49019.png', '49118.png', '49234.png', '49275.png', '49311.png', '49431.png', '49442.png', '49443.png', '49593.png', '49637.png', '501.png', '50127.png', '50292.png', '50319.png', '50463.png', '5047.png', '50495.png', '50525.png', '50550.png', '50576.png', '50663.png', '50810.png', '50817.png', '50925.png', '50926.png', '50979.png', '51089.png', '51238.png', '51321.png', '51449.png', '51614.png', '51705.png', '51717.png', '51843.png', '52054.png', '52189.png', '52378.png', '52493.png', '5256.png', '52697.png', '52780.png', '52922.png', '52925.png', '52946.png', '53032.png', '5311.png', '53600.png', '53614.png', '53800.png', '53945.png', '540.png', '54072.bmp', '54325.png', '54389.png', '54541.png', '54585.png', '54586.png', '54593.png', '54767.png', '55041.png', '55069.png', '5509.png', '55230.png', '55327.png', '55511.png', '5556.png', '5558.png', '55636.png', '55768.png', '55811.png', '55921.png', '55989.png', '56166.png', '56323.png', '56382.bmp', '56593.png', '56704.png', '56707.png', '57304.png', '57326.png', '57389.png', '57508.png', '57590.png', '57599.png', '57746.png', '57790.png', '57800.png', '5796.png', '58110.png', '58129.png', '58149.png', '58320.png', '58428.bmp', '58452.png', '58488.png', '58847.png', '58867.png', '59189.png', '59488.png', '59510.png', '59707.png', '59712.png', '59772.png', '59795.png', '59867.png', '60157.png', '60178.png', '60246.png', '60466.png', '60683.png', '60724.png', '60752.png', '61119.png', '61194.png', '61300.png', '61348.png', '61565.png', '61771.png', '61842.png', '62039.png', '62076.png', '62099.bmp', '62194.png', '6256.png', '62590.png', '62591.png', '62642.png', '62840.png', '62844.png', '62903.png', '6296.png', '63032.png', '63051.png', '63317.png', '63321.png', '6337.png', '63605.png', '63845.png', '63895.png', '6395.png', '64141.png', '64256.png', '64318.png', '64355.png', '64495.png', '6465.png', '64763.png', '64866.png', '65198.png', '65240.png', '65254.png', '65319.png', '65337.png', '65353.png', '65387.png', '65885.png', '65998.png', '6600.png', '66106.png', '66159.png', '66350.png', '66427.png', '66476.png', '66545.png', '66614.png', '66859.png', '66919.png', '66953.png', '67118.png', '67451.png', '67482.png', '67618.png', '67707.png', '67708.png', '67719.png', '67984.png', '68145.png', '68164.png', '68181.png', '68433.png', '68518.png', '68532.png', '68662.png', '68730.png', '68882.png', '69109.png', '69167.png', '69231.png', '69390.png', '69416.png', '69632.png', '69639.png', '69737.png', '69778.png', '6982.png', '69867.png', '69875.png', '69907.png', '70052.png', '70086.png', '70138.png', '70146.png', '70153.png', '70223.png', '70284.png', '70321.png', '70329.png', '70382.png', '7039.png', '70504.png', '70523.png', '70567.png', '70683.png', '70684.png', '70811.png', '70830.png', '70834.png', '70850.png', '709.png', '70957.png', '71565.png', '71692.bmp', '71758.png', '7177.png', '71886.png', '71928.png', '71970.png', '72058.png', '72132.png', '72137.png', '72579.png', '72710.png', '72719.bmp', '7280.png', '72816.png', '72879.png', '7321.png', '73211.png', '73243.png', '73374.png', '73390.png', '73793.png', '73849.png', '73874.png', '7392.png', '73958.png', '74116.png', '7417.png', '74362.png', '7450.png', '74538.png', '74648.png', '74712.png', '74903.png', '74905.png', '75001.png', '75041.png', '75197.png', '75220.png', '75272.png', '75504.png', '75667.png', '75745.png', '75872.png', '75936.png', '75958.png', '7597.png', '76056.png', '76273.png', '76419.png', '76450.png', '76551.png', '76612.png', '76616.png', '76681.png', '76725.png', '76846.png', '76992.png', '77026.png', '77165.png', '77177.png', '77192.png', '7720.png', '77276.png', '77315.png', '77521.png', '77752.png', '77843.png', '77888.bmp', '77905.png', '77907.png', '77917.png', '77967.png', '77999.png', '78007.png', '78118.png', '78129.png', '78202.png', '7821.png', '78212.png', '78258.png', '78324.png', '78400.bmp', '78493.png', '7853.png', '78712.png', '78749.png', '78893.png', '78914.png', '79085.png', '79110.png', '79121.png', '79268.png', '79311.png', '79505.png', '79539.png', '79915.png', '79977.png', '79987.png', '80005.png', '80114.png', '80305.png', '80429.bmp', '80485.png', '8070.png', '80772.png', '80817.png', '80832.png', '80895.png', '80997.png', '81140.png', '81283.png', '8132.png', '81464.png', '81501.png', '8165.bmp', '81735.png', '81792.png', '81889.png', '82015.png', '82314.png', '82428.png', '82597.png', '82676.png', '82837.png', '82919.png', '83038.png', '83079.png', '83098.png', '83100.png', '83102.png', '83212.png', '83261.png', '83289.png', '83401.png', '83446.png', '83520.png', '83535.png', '83686.png', '8370.png', '83830.png', '83865.png', '83909.png', '8397.png', '84002.png', '84273.png', '84381.png', '84436.png', '84484.png', '8453.png', '84869.png', '85126.png', '85161.png', '85166.png', '85181.png', '85231.png', '85238.png', '85419.png', '8545.png', '8562.png', '85743.png', '85807.png', '86001.png', '86043.png', '86045.png', '86073.png', '86074.png', '8613.png', '86142.png', '86193.png', '86237.png', '86298.png', '86446.png', '86650.png', '86654.png', '86670.png', '86944.png', '87192.png', '87277.png', '87305.png', '87441.png', '87458.png', '87494.png', '875.png', '87512.png', '87551.png', '87583.png', '87715.bmp', '87722.png', '87759.png', '87788.png', '87823.png', '87836.png', '87844.png', '87944.png', '88034.png', '88096.png', '88252.png', '88295.png', '88627.png', '8870.png', '88838.png', '88909.png', '88934.png', '8911.png', '89142.bmp', '89171.png', '89194.png', '89197.png', '8922.png', '89456.png', '89619.png', '89658.png', '89680.png', '89699.png', '89739.png', '89769.png', '89917.png', '89950.png', '9001.png', '90050.png', '90064.png', '90253.png', '90372.png', '90514.png', '90658.png', '90759.png', '90767.png', '90833.png', '90981.png', '91026.png', '91408.png', '91473.png', '91497.png', '91570.png', '91674.png', '91872.png', '92007.png', '92152.png', '92238.png', '92263.png', '92305.png', '92318.png', '9237.png', '92445.png', '92478.png', '92489.png', '92564.png', '9257.png', '92751.png', '92777.png', '92788.png', '92926.png', '92927.png', '93150.png', '93444.png', '93640.png', '93648.png', '93864.png', '93866.png', '93930.png', '93963.png', '94009.png', '94134.png', '94147.png', '94185.png', '94252.png', '94316.png', '94343.png', '9440.png', '94588.png', '94727.png', '94770.png', '94790.png', '9496.png', '94976.png', '95076.png', '95173.png', '95318.png', '9540.png', '95412.png', '95486.png', '95496.png', '95508.png', '95690.png', '95778.png', '95985.png', '95989.png', '96198.bmp', '96238.png', '96296.png', '96601.png', '96652.png', '9673.png', '96793.png', '96830.png', '96833.png', '97124.png', '97210.png', '97366.png', '97377.png', '97454.png', '97651.png', '97744.bmp', '97768.png', '97796.bmp', '97834.png', '98093.png', '98175.png', '98187.png', '98461.png', '98606.png', '98678.png', '98744.png', '98775.png', '98883.png', '98919.png', '98959.png', '99187.png', '99214.png', '99216.png', '99346.png', '99430.png', '99528.png', '99575.png', '99656.png', '99843.png', '99862.png', '99874.png', '99879.png', '99895.png', '99922.png', '99935.png']\n"
          ],
          "name": "stdout"
        }
      ]
    },
    {
      "cell_type": "code",
      "metadata": {
        "id": "V8wMDn05_PdM"
      },
      "source": [
        "with open('inception_results.txt', 'w') as new_results:\n",
        "   new_results.write(\"Id,Category\\n\")\n",
        "   for i in range(len(test_images)):\n",
        "     new_results.write(\"%s,%s\\n\" % (test_images[i], predicted_class_indices[i]))"
      ],
      "execution_count": 145,
      "outputs": []
    },
    {
      "cell_type": "code",
      "metadata": {
        "id": "hF5woLYWDpXJ"
      },
      "source": [
        "fd=open(\"inception_results.txt\",\"r\")\n",
        "d=fd.read()\n",
        "fd.close()\n",
        "m=d.split(\"\\n\")\n",
        "s=\"\\n\".join(m[:-1])\n",
        "fd=open(\"inception_results.txt\",\"w+\")\n",
        "for i in range(len(s)):\n",
        "    fd.write(s[i])\n",
        "fd.close()"
      ],
      "execution_count": 146,
      "outputs": []
    }
  ]
}